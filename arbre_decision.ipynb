{
 "cells": [
  {
   "cell_type": "code",
   "execution_count": 39,
   "id": "c03b8628-a236-4788-ae18-107397dfea2c",
   "metadata": {},
   "outputs": [
    {
     "name": "stdout",
     "output_type": "stream",
     "text": [
      "The autoreload extension is already loaded. To reload it, use:\n",
      "  %reload_ext autoreload\n"
     ]
    },
    {
     "name": "stderr",
     "output_type": "stream",
     "text": [
      "[autoreload of data_arbres failed: Traceback (most recent call last):\n",
      "  File \"/Users/adjysedardesir/Library/jupyterlab-desktop/jlab_server/lib/python3.8/site-packages/IPython/extensions/autoreload.py\", line 273, in check\n",
      "    superreload(m, reload, self.old_objects)\n",
      "  File \"/Users/adjysedardesir/Library/jupyterlab-desktop/jlab_server/lib/python3.8/site-packages/IPython/extensions/autoreload.py\", line 471, in superreload\n",
      "    module = reload(module)\n",
      "  File \"/Users/adjysedardesir/Library/jupyterlab-desktop/jlab_server/lib/python3.8/importlib/__init__.py\", line 169, in reload\n",
      "    _bootstrap._exec(spec, module)\n",
      "  File \"<frozen importlib._bootstrap>\", line 604, in _exec\n",
      "  File \"<frozen importlib._bootstrap_external>\", line 843, in exec_module\n",
      "  File \"<frozen importlib._bootstrap>\", line 219, in _call_with_frames_removed\n",
      "  File \"/Users/adjysedardesir/Documents/ULCO/L3/ia_2/tp_arbre_decision/data_arbres.py\", line 36, in <module>\n",
      "    class Noeud:\n",
      "  File \"/Users/adjysedardesir/Documents/ULCO/L3/ia_2/tp_arbre_decision/data_arbres.py\", line 37, in Noeud\n",
      "    def __init__(self, profondeur_max=np.infty):\n",
      "NameError: name 'np' is not defined\n",
      "]\n"
     ]
    }
   ],
   "source": [
    "%load_ext autoreload"
   ]
  },
  {
   "cell_type": "code",
   "execution_count": 40,
   "id": "f9212ac1-9b0b-45d2-92e5-70a025219e01",
   "metadata": {},
   "outputs": [],
   "source": [
    "%autoreload 2"
   ]
  },
  {
   "cell_type": "code",
   "execution_count": 41,
   "id": "05b708ab-200e-47f6-bba8-9fc0a9705d95",
   "metadata": {},
   "outputs": [],
   "source": [
    "import data_arbres"
   ]
  },
  {
   "cell_type": "code",
   "execution_count": 42,
   "id": "04f1aa7e-6c86-4dd6-8fc5-fa73bf50cb04",
   "metadata": {},
   "outputs": [],
   "source": [
    "data = data_arbres.load_data('tp_donnees.csv')"
   ]
  },
  {
   "cell_type": "code",
   "execution_count": 43,
   "id": "6e82cfc9-bf22-4a31-8bdd-a1fb256b5336",
   "metadata": {},
   "outputs": [
    {
     "data": {
      "text/plain": [
       "1"
      ]
     },
     "execution_count": 43,
     "metadata": {},
     "output_type": "execute_result"
    }
   ],
   "source": [
    "data_arbres.proba_empirique(data)"
   ]
  },
  {
   "cell_type": "code",
   "execution_count": null,
   "id": "77629d66-524f-4295-b1bb-7c06869a911c",
   "metadata": {},
   "outputs": [],
   "source": []
  },
  {
   "cell_type": "code",
   "execution_count": null,
   "id": "01e9edba-01e5-4bf3-9c4f-347b94caa444",
   "metadata": {},
   "outputs": [],
   "source": []
  }
 ],
 "metadata": {
  "kernelspec": {
   "display_name": "Python 3 (ipykernel)",
   "language": "python",
   "name": "python3"
  },
  "language_info": {
   "codemirror_mode": {
    "name": "ipython",
    "version": 3
   },
   "file_extension": ".py",
   "mimetype": "text/x-python",
   "name": "python",
   "nbconvert_exporter": "python",
   "pygments_lexer": "ipython3",
   "version": "3.12.1"
  }
 },
 "nbformat": 4,
 "nbformat_minor": 5
}
